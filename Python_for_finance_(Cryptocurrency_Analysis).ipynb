{
  "nbformat": 4,
  "nbformat_minor": 0,
  "metadata": {
    "colab": {
      "name": "Python for finance (Cryptocurrency Analysis).ipynb",
      "provenance": [],
      "private_outputs": true,
      "collapsed_sections": [],
      "include_colab_link": true
    },
    "kernelspec": {
      "name": "python3",
      "display_name": "Python 3"
    }
  },
  "cells": [
    {
      "cell_type": "markdown",
      "metadata": {
        "id": "view-in-github",
        "colab_type": "text"
      },
      "source": [
        "<a href=\"https://colab.research.google.com/github/kavmut/Python-for-finance-Cryptocurrency-Analysis-/blob/master/Python_for_finance_(Cryptocurrency_Analysis).ipynb\" target=\"_parent\"><img src=\"https://colab.research.google.com/assets/colab-badge.svg\" alt=\"Open In Colab\"/></a>"
      ]
    },
    {
      "cell_type": "code",
      "metadata": {
        "id": "_qzrXy5tbASb",
        "colab_type": "code",
        "colab": {}
      },
      "source": [
        "# Description: This is a python program for crypto currency analysis"
      ],
      "execution_count": null,
      "outputs": []
    },
    {
      "cell_type": "code",
      "metadata": {
        "id": "tkOxPR1x6OFm",
        "colab_type": "code",
        "colab": {}
      },
      "source": [
        "# Import the libraries\n",
        "import numpy as np\n",
        "import pandas as pd"
      ],
      "execution_count": null,
      "outputs": []
    },
    {
      "cell_type": "code",
      "metadata": {
        "id": "PaEnBkp56VUg",
        "colab_type": "code",
        "colab": {}
      },
      "source": [
        "# Load the data\n",
        "from google.colab import files\n",
        "uploaded = files.upload()"
      ],
      "execution_count": null,
      "outputs": []
    },
    {
      "cell_type": "code",
      "metadata": {
        "id": "8nul_C416s7x",
        "colab_type": "code",
        "colab": {}
      },
      "source": [
        "# Store the data into dataframes\n",
        "df_btc = pd.read_csv('BTC_USD_2019-07-28_2020-07-27-CoinDesk.csv')\n",
        "df_eth = pd.read_csv('ETH_USD_2019-07-28_2020-07-27-CoinDesk.csv')\n",
        "df_ltc = pd.read_csv('LTC_USD_2019-07-28_2020-07-27-CoinDesk.csv')"
      ],
      "execution_count": null,
      "outputs": []
    },
    {
      "cell_type": "code",
      "metadata": {
        "id": "w_23RFRWAARM",
        "colab_type": "code",
        "colab": {}
      },
      "source": [
        "# Print the data\n",
        "df_btc.head(5)\n",
        "\n"
      ],
      "execution_count": null,
      "outputs": []
    },
    {
      "cell_type": "code",
      "metadata": {
        "id": "VXjMacrrA4mJ",
        "colab_type": "code",
        "colab": {}
      },
      "source": [
        "# Print the first 5 rows of data for ETH\n",
        "df_eth.head()"
      ],
      "execution_count": null,
      "outputs": []
    },
    {
      "cell_type": "code",
      "metadata": {
        "id": "wxOlSVyGAd_x",
        "colab_type": "code",
        "colab": {}
      },
      "source": [
        "# Print the first five rows of LTC\n",
        "df_ltc.head()"
      ],
      "execution_count": null,
      "outputs": []
    },
    {
      "cell_type": "code",
      "metadata": {
        "id": "Qx2FSsg7BYzF",
        "colab_type": "code",
        "colab": {}
      },
      "source": [
        "# Create a new dataframe that holds the closing price of all 3 crypto currencies\n",
        "df = pd.DataFrame({'BTC': df_btc['Closing Price (USD)'],\n",
        "                   'ETH': df_eth['Closing Price (USD)'],\n",
        "                   'LTC': df_ltc['Closing Price (USD)']\n",
        "    \n",
        "    \n",
        "    \n",
        "})"
      ],
      "execution_count": null,
      "outputs": []
    },
    {
      "cell_type": "code",
      "metadata": {
        "id": "UEzE1HplCGLP",
        "colab_type": "code",
        "colab": {}
      },
      "source": [
        "# Show the new dataframe\n",
        "df"
      ],
      "execution_count": null,
      "outputs": []
    },
    {
      "cell_type": "code",
      "metadata": {
        "id": "ys9V1tcbCPCX",
        "colab_type": "code",
        "colab": {}
      },
      "source": [
        "# Get the statistics on the data\n",
        "df.describe()"
      ],
      "execution_count": null,
      "outputs": []
    },
    {
      "cell_type": "code",
      "metadata": {
        "id": "urYtGYCkCY9Q",
        "colab_type": "code",
        "colab": {}
      },
      "source": [
        "# Visualize the closing prices\n",
        "import matplotlib.pyplot as plt\n",
        "plt.style.use('fivethirtyeight')\n",
        "\n",
        "my_crypto = df\n",
        "plt.figure(figsize = (12.2, 4.5))\n",
        "for c in my_crypto.columns.values:\n",
        "  plt.plot(my_crypto[c], label = c)\n",
        "\n",
        "plt.title('CryptoCurrency Graph')\n",
        "plt.xlabel('Days')\n",
        "plt.ylabel(' Crypto Price ($)')\n",
        "plt.legend(my_crypto.columns.values, loc = 'upper left')\n",
        "plt.show()"
      ],
      "execution_count": null,
      "outputs": []
    },
    {
      "cell_type": "code",
      "metadata": {
        "id": "qbYU4zY3DzDX",
        "colab_type": "code",
        "colab": {}
      },
      "source": [
        "# Scale the data\n",
        "from sklearn import preprocessing\n",
        "min_max_scaler = preprocessing.MinMaxScaler(feature_range=(0, 100))\n",
        "scaled = min_max_scaler.fit_transform(df)\n",
        "scaled"
      ],
      "execution_count": null,
      "outputs": []
    },
    {
      "cell_type": "code",
      "metadata": {
        "id": "vNctXxC4EjZd",
        "colab_type": "code",
        "colab": {}
      },
      "source": [
        "# Convert the scaled data into a dataframe\n",
        "df_scale = pd.DataFrame(scaled, columns=df.columns)"
      ],
      "execution_count": null,
      "outputs": []
    },
    {
      "cell_type": "code",
      "metadata": {
        "id": "-r_PqqB4ExZ7",
        "colab_type": "code",
        "colab": {}
      },
      "source": [
        "# Visualize the scaled data\n",
        "my_crypto = df_scale\n",
        "\n",
        "plt.figure(figsize=(12.4, 4.5))\n",
        "for c in my_crypto.columns.values:\n",
        "  plt.plot(my_crypto[c], label = c)\n",
        "\n",
        "plt.title('Cryptocurreny Scaled Graph')\n",
        "plt.xlabel('Days')\n",
        "plt.ylabel('Crypto Scaled Price ($)')\n",
        "plt.legend(my_crypto.columns.values, loc = 'upper left')\n",
        "plt.show()"
      ],
      "execution_count": null,
      "outputs": []
    },
    {
      "cell_type": "code",
      "metadata": {
        "id": "XsIPQN8JGAnT",
        "colab_type": "code",
        "colab": {}
      },
      "source": [
        "# Get the daily simple return\n",
        "DSR = df.pct_change(1)\n",
        "DSR"
      ],
      "execution_count": null,
      "outputs": []
    },
    {
      "cell_type": "code",
      "metadata": {
        "id": "W5jzQAr3Gb93",
        "colab_type": "code",
        "colab": {}
      },
      "source": [
        "# Visualize the daily siple returns\n",
        "plt.figure(figsize=(12, 4.5))\n",
        "\n",
        "for c in DSR.columns.values:\n",
        "  plt.plot(DSR.index, DSR[c], label = c, lw = 2, alpha = .7)\n",
        "\n",
        "plt.title('Daily Simple Returns')\n",
        "plt.ylabel('Percentage (in decimal form)')\n",
        "plt.xlabel('Days')\n",
        "plt.legend(DSR.columns.values, loc= 'upper right')\n",
        "plt.show()"
      ],
      "execution_count": null,
      "outputs": []
    },
    {
      "cell_type": "code",
      "metadata": {
        "id": "rufxBn3lINJB",
        "colab_type": "code",
        "colab": {}
      },
      "source": [
        "# Get the volatility\n",
        "print('The Cryptocurrency volatility:')\n",
        "DSR.std()"
      ],
      "execution_count": null,
      "outputs": []
    },
    {
      "cell_type": "code",
      "metadata": {
        "id": "PmgS-GX6IflB",
        "colab_type": "code",
        "colab": {}
      },
      "source": [
        "# Show the average daily simple returns\n",
        "DSR.mean()"
      ],
      "execution_count": null,
      "outputs": []
    },
    {
      "cell_type": "code",
      "metadata": {
        "id": "xiTKhoEYIwWX",
        "colab_type": "code",
        "colab": {}
      },
      "source": [
        "# Get the  correlation\n",
        "DSR.corr()"
      ],
      "execution_count": null,
      "outputs": []
    },
    {
      "cell_type": "code",
      "metadata": {
        "id": "D6DygYC8I-eS",
        "colab_type": "code",
        "colab": {}
      },
      "source": [
        "# Visualize the correlation\n",
        "import seaborn as sns\n",
        "\n",
        "plt.subplots(figsize= (11,11))\n",
        "sns.heatmap(DSR.corr(), annot = True, fmt = '.2%')"
      ],
      "execution_count": null,
      "outputs": []
    },
    {
      "cell_type": "code",
      "metadata": {
        "id": "SzOOeHhwJiLK",
        "colab_type": "code",
        "colab": {}
      },
      "source": [
        "# Get the daily cumulative simple returns\n",
        "DCSR = (DSR+1).cumprod()\n",
        "\n",
        "# Show\n",
        "DCSR"
      ],
      "execution_count": null,
      "outputs": []
    },
    {
      "cell_type": "code",
      "metadata": {
        "id": "W9exduM5J_Qy",
        "colab_type": "code",
        "colab": {}
      },
      "source": [
        "# Visulaize the daily cumulative simple returns\n",
        "plt.figure(figsize=(12.2, 4.5))\n",
        "for c in DCSR.columns.values:\n",
        "  plt.plot(DCSR.index, DCSR[c], lw=2, label = c)\n",
        "\n",
        "plt.title('Daily Cumalitive Simple Return')\n",
        "plt.xlabel('Days')\n",
        "plt.ylabel('Growth of $1 investment')\n",
        "plt.legend(DCSR.columns.values, loc = 'upper left', fontsize = 10)\n",
        "plt.show()"
      ],
      "execution_count": null,
      "outputs": []
    }
  ]
}